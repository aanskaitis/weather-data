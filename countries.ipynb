{
 "cells": [
  {
   "cell_type": "code",
   "execution_count": 10,
   "metadata": {},
   "outputs": [],
   "source": [
    "from bs4 import BeautifulSoup\n",
    "import pandas as pd\n",
    "import requests\n",
    "import numpy as np"
   ]
  },
  {
   "cell_type": "markdown",
   "metadata": {},
   "source": [
    "#### Scrape the table of countries populations and put it in a pandas DataFrame. "
   ]
  },
  {
   "cell_type": "code",
   "execution_count": 13,
   "metadata": {},
   "outputs": [],
   "source": [
    "url = 'https://www.worldometers.info/world-population/population-by-country/'\n",
    "page = requests.get(url)\n",
    "soup = BeautifulSoup(page.text, 'html')"
   ]
  },
  {
   "cell_type": "markdown",
   "metadata": {},
   "source": [
    "#### First, let's check what columns does the table have."
   ]
  },
  {
   "cell_type": "code",
   "execution_count": 14,
   "metadata": {},
   "outputs": [],
   "source": [
    "column_names = []\n",
    "for table_header in soup.find_all('th'):\n",
    "    column_names.append(table_header.text)"
   ]
  },
  {
   "cell_type": "code",
   "execution_count": 15,
   "metadata": {},
   "outputs": [
    {
     "data": {
      "text/plain": "['#',\n 'Country (or dependency)',\n 'Population (2020)',\n 'Yearly Change',\n 'Net Change',\n 'Density (P/Km²)',\n 'Land Area (Km²)',\n 'Migrants (net)',\n 'Fert. Rate',\n 'Med. Age',\n 'Urban Pop %',\n 'World Share']"
     },
     "execution_count": 15,
     "metadata": {},
     "output_type": "execute_result"
    }
   ],
   "source": [
    "column_names"
   ]
  },
  {
   "cell_type": "markdown",
   "metadata": {},
   "source": [
    "#### Create lists for column values that we will later create a dataframe from."
   ]
  },
  {
   "cell_type": "code",
   "execution_count": 16,
   "metadata": {},
   "outputs": [],
   "source": [
    "country = []\n",
    "population = []\n",
    "yearly_pop_change_pct = []\n",
    "yearly_pop_change_net = []\n",
    "density = []\n",
    "land_area = []\n",
    "migrants_net = []\n",
    "fertility_rate = []\n",
    "median_age = []\n",
    "urban_pop_pct = []\n",
    "world_pop_share_pct = []"
   ]
  },
  {
   "cell_type": "code",
   "execution_count": 17,
   "metadata": {},
   "outputs": [],
   "source": [
    "for i in range(0, len(soup.find_all('td')), 12):\n",
    "    \n",
    "    country.append(soup.find_all('td')[i+1].text)\n",
    "    population.append(soup.find_all('td')[i+2].text)\n",
    "    yearly_pop_change_pct.append(soup.find_all('td')[i+3].text)\n",
    "    yearly_pop_change_net.append(soup.find_all('td')[i+4].text)\n",
    "    density.append(soup.find_all('td')[i+5].text)\n",
    "    land_area.append(soup.find_all('td')[i+6].text)\n",
    "    migrants_net.append(soup.find_all('td')[i+7].text)\n",
    "    fertility_rate.append(soup.find_all('td')[i+8].text)\n",
    "    median_age.append(soup.find_all('td')[i+9].text)\n",
    "    urban_pop_pct.append(soup.find_all('td')[i+10].text)\n",
    "    world_pop_share_pct.append(soup.find_all('td')[i+11].text)"
   ]
  },
  {
   "cell_type": "code",
   "execution_count": 18,
   "metadata": {},
   "outputs": [],
   "source": [
    "df_countries = pd.DataFrame()\n",
    "df_countries['country'] = country\n",
    "df_countries['population'] = population\n",
    "df_countries['yearly_pop_change_pct'] = yearly_pop_change_pct\n",
    "df_countries['yearly_pop_change_net'] = yearly_pop_change_net\n",
    "df_countries['density'] = density\n",
    "df_countries['land_area'] = land_area\n",
    "df_countries['migrants_net'] = migrants_net\n",
    "df_countries['fertility_rate'] = fertility_rate\n",
    "df_countries['median_age'] = median_age\n",
    "df_countries['urban_pop_pct'] = urban_pop_pct\n",
    "df_countries['world_pop_share_pct'] = world_pop_share_pct"
   ]
  },
  {
   "cell_type": "code",
   "execution_count": 19,
   "metadata": {},
   "outputs": [
    {
     "data": {
      "text/plain": "              country     population yearly_pop_change_pct  \\\n0               China  1,439,323,776                0.39 %   \n1               India  1,380,004,385                0.99 %   \n2       United States    331,002,651                0.59 %   \n3           Indonesia    273,523,615                1.07 %   \n4            Pakistan    220,892,340                2.00 %   \n..                ...            ...                   ...   \n230        Montserrat          4,992                0.06 %   \n231  Falkland Islands          3,480                3.05 %   \n232              Niue          1,626                0.68 %   \n233           Tokelau          1,357                1.27 %   \n234          Holy See            801                0.25 %   \n\n    yearly_pop_change_net density  land_area migrants_net fertility_rate  \\\n0               5,540,090     153  9,388,211     -348,399            1.7   \n1              13,586,631     464  2,973,190     -532,687            2.2   \n2               1,937,734      36  9,147,420      954,806            1.8   \n3               2,898,047     151  1,811,570      -98,955            2.3   \n4               4,327,022     287    770,880     -233,379            3.6   \n..                    ...     ...        ...          ...            ...   \n230                     3      50        100                        N.A.   \n231                   103       0     12,170                        N.A.   \n232                    11       6        260                        N.A.   \n233                    17     136         10                        N.A.   \n234                     2   2,003          0                        N.A.   \n\n    median_age urban_pop_pct world_pop_share_pct  \n0           38          61 %             18.47 %  \n1           28          35 %             17.70 %  \n2           38          83 %              4.25 %  \n3           30          56 %              3.51 %  \n4           23          35 %              2.83 %  \n..         ...           ...                 ...  \n230       N.A.          10 %              0.00 %  \n231       N.A.          66 %              0.00 %  \n232       N.A.          46 %              0.00 %  \n233       N.A.           0 %              0.00 %  \n234       N.A.          N.A.              0.00 %  \n\n[235 rows x 11 columns]",
      "text/html": "<div>\n<style scoped>\n    .dataframe tbody tr th:only-of-type {\n        vertical-align: middle;\n    }\n\n    .dataframe tbody tr th {\n        vertical-align: top;\n    }\n\n    .dataframe thead th {\n        text-align: right;\n    }\n</style>\n<table border=\"1\" class=\"dataframe\">\n  <thead>\n    <tr style=\"text-align: right;\">\n      <th></th>\n      <th>country</th>\n      <th>population</th>\n      <th>yearly_pop_change_pct</th>\n      <th>yearly_pop_change_net</th>\n      <th>density</th>\n      <th>land_area</th>\n      <th>migrants_net</th>\n      <th>fertility_rate</th>\n      <th>median_age</th>\n      <th>urban_pop_pct</th>\n      <th>world_pop_share_pct</th>\n    </tr>\n  </thead>\n  <tbody>\n    <tr>\n      <th>0</th>\n      <td>China</td>\n      <td>1,439,323,776</td>\n      <td>0.39 %</td>\n      <td>5,540,090</td>\n      <td>153</td>\n      <td>9,388,211</td>\n      <td>-348,399</td>\n      <td>1.7</td>\n      <td>38</td>\n      <td>61 %</td>\n      <td>18.47 %</td>\n    </tr>\n    <tr>\n      <th>1</th>\n      <td>India</td>\n      <td>1,380,004,385</td>\n      <td>0.99 %</td>\n      <td>13,586,631</td>\n      <td>464</td>\n      <td>2,973,190</td>\n      <td>-532,687</td>\n      <td>2.2</td>\n      <td>28</td>\n      <td>35 %</td>\n      <td>17.70 %</td>\n    </tr>\n    <tr>\n      <th>2</th>\n      <td>United States</td>\n      <td>331,002,651</td>\n      <td>0.59 %</td>\n      <td>1,937,734</td>\n      <td>36</td>\n      <td>9,147,420</td>\n      <td>954,806</td>\n      <td>1.8</td>\n      <td>38</td>\n      <td>83 %</td>\n      <td>4.25 %</td>\n    </tr>\n    <tr>\n      <th>3</th>\n      <td>Indonesia</td>\n      <td>273,523,615</td>\n      <td>1.07 %</td>\n      <td>2,898,047</td>\n      <td>151</td>\n      <td>1,811,570</td>\n      <td>-98,955</td>\n      <td>2.3</td>\n      <td>30</td>\n      <td>56 %</td>\n      <td>3.51 %</td>\n    </tr>\n    <tr>\n      <th>4</th>\n      <td>Pakistan</td>\n      <td>220,892,340</td>\n      <td>2.00 %</td>\n      <td>4,327,022</td>\n      <td>287</td>\n      <td>770,880</td>\n      <td>-233,379</td>\n      <td>3.6</td>\n      <td>23</td>\n      <td>35 %</td>\n      <td>2.83 %</td>\n    </tr>\n    <tr>\n      <th>...</th>\n      <td>...</td>\n      <td>...</td>\n      <td>...</td>\n      <td>...</td>\n      <td>...</td>\n      <td>...</td>\n      <td>...</td>\n      <td>...</td>\n      <td>...</td>\n      <td>...</td>\n      <td>...</td>\n    </tr>\n    <tr>\n      <th>230</th>\n      <td>Montserrat</td>\n      <td>4,992</td>\n      <td>0.06 %</td>\n      <td>3</td>\n      <td>50</td>\n      <td>100</td>\n      <td></td>\n      <td>N.A.</td>\n      <td>N.A.</td>\n      <td>10 %</td>\n      <td>0.00 %</td>\n    </tr>\n    <tr>\n      <th>231</th>\n      <td>Falkland Islands</td>\n      <td>3,480</td>\n      <td>3.05 %</td>\n      <td>103</td>\n      <td>0</td>\n      <td>12,170</td>\n      <td></td>\n      <td>N.A.</td>\n      <td>N.A.</td>\n      <td>66 %</td>\n      <td>0.00 %</td>\n    </tr>\n    <tr>\n      <th>232</th>\n      <td>Niue</td>\n      <td>1,626</td>\n      <td>0.68 %</td>\n      <td>11</td>\n      <td>6</td>\n      <td>260</td>\n      <td></td>\n      <td>N.A.</td>\n      <td>N.A.</td>\n      <td>46 %</td>\n      <td>0.00 %</td>\n    </tr>\n    <tr>\n      <th>233</th>\n      <td>Tokelau</td>\n      <td>1,357</td>\n      <td>1.27 %</td>\n      <td>17</td>\n      <td>136</td>\n      <td>10</td>\n      <td></td>\n      <td>N.A.</td>\n      <td>N.A.</td>\n      <td>0 %</td>\n      <td>0.00 %</td>\n    </tr>\n    <tr>\n      <th>234</th>\n      <td>Holy See</td>\n      <td>801</td>\n      <td>0.25 %</td>\n      <td>2</td>\n      <td>2,003</td>\n      <td>0</td>\n      <td></td>\n      <td>N.A.</td>\n      <td>N.A.</td>\n      <td>N.A.</td>\n      <td>0.00 %</td>\n    </tr>\n  </tbody>\n</table>\n<p>235 rows × 11 columns</p>\n</div>"
     },
     "execution_count": 19,
     "metadata": {},
     "output_type": "execute_result"
    }
   ],
   "source": [
    "df_countries"
   ]
  },
  {
   "cell_type": "markdown",
   "metadata": {},
   "source": [
    "#### Clean data and save it to csv file."
   ]
  },
  {
   "cell_type": "code",
   "execution_count": 20,
   "metadata": {},
   "outputs": [],
   "source": [
    "df_countries = df_countries.replace('N.A.', np.nan)\n",
    "\n",
    "cols_with_commas = ['population', 'yearly_pop_change_net', 'density', 'land_area', 'migrants_net']\n",
    "cols_with_percentage = ['yearly_pop_change_pct', 'urban_pop_pct', 'world_pop_share_pct']\n",
    "\n",
    "for col in cols_with_commas:\n",
    "    df_countries[col] = df_countries[col].str.replace(',', '')\n",
    "    \n",
    "for col in cols_with_percentage:\n",
    "    df_countries[col] = df_countries[col].str.replace(' %', '')"
   ]
  },
  {
   "cell_type": "code",
   "execution_count": 23,
   "metadata": {
    "pycharm": {
     "name": "#%%\n"
    }
   },
   "outputs": [],
   "source": [
    "df_countries.to_csv('countries.csv', index=False)"
   ]
  }
 ],
 "metadata": {
  "kernelspec": {
   "display_name": "Python 3",
   "language": "python",
   "name": "python3"
  },
  "language_info": {
   "codemirror_mode": {
    "name": "ipython",
    "version": 3
   },
   "file_extension": ".py",
   "mimetype": "text/x-python",
   "name": "python",
   "nbconvert_exporter": "python",
   "pygments_lexer": "ipython3",
   "version": "3.8.5"
  }
 },
 "nbformat": 4,
 "nbformat_minor": 4
}